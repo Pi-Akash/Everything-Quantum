{
 "cells": [
  {
   "cell_type": "code",
   "execution_count": 8,
   "id": "5afa83ec-d5dc-4a30-be53-56eaf6c6f325",
   "metadata": {},
   "outputs": [],
   "source": [
    "# reading api key from ibm from a file\n",
    "with open(\"Qid.txt\", \"r\") as handle:\n",
    "    api_key = handle.read().strip()"
   ]
  },
  {
   "cell_type": "code",
   "execution_count": 9,
   "id": "e98205d9-fd20-416c-a41b-4c01f7055429",
   "metadata": {},
   "outputs": [],
   "source": [
    "from qiskit import *"
   ]
  },
  {
   "cell_type": "code",
   "execution_count": 12,
   "id": "2d168f63-45ec-40fa-8d87-be7109ec85f3",
   "metadata": {},
   "outputs": [
    {
     "name": "stderr",
     "output_type": "stream",
     "text": [
      "configrc.store_credentials:WARNING:2021-08-07 14:48:51,783: Credentials already present. Set overwrite=True to overwrite.\n"
     ]
    }
   ],
   "source": [
    "# saves the api key for the usage in entire notebook\n",
    "IBMQ.save_account(api_key)"
   ]
  },
  {
   "cell_type": "code",
   "execution_count": 13,
   "id": "dc0f0451-0568-471d-b78e-af79738128b6",
   "metadata": {},
   "outputs": [
    {
     "name": "stderr",
     "output_type": "stream",
     "text": [
      "ibmqfactory.load_account:WARNING:2021-08-07 14:48:52,199: Credentials are already in use. The existing account in the session will be replaced.\n"
     ]
    },
    {
     "data": {
      "text/plain": [
       "<AccountProvider for IBMQ(hub='ibm-q', group='open', project='main')>"
      ]
     },
     "execution_count": 13,
     "metadata": {},
     "output_type": "execute_result"
    }
   ],
   "source": [
    "IBMQ.load_account()"
   ]
  },
  {
   "cell_type": "code",
   "execution_count": 15,
   "id": "2581c0c2-2b7b-43b9-9efd-e1d766d4b036",
   "metadata": {},
   "outputs": [
    {
     "data": {
      "text/plain": [
       "[AerSimulator('aer_simulator'),\n",
       " AerSimulator('aer_simulator_statevector'),\n",
       " AerSimulator('aer_simulator_density_matrix'),\n",
       " AerSimulator('aer_simulator_stabilizer'),\n",
       " AerSimulator('aer_simulator_matrix_product_state'),\n",
       " AerSimulator('aer_simulator_extended_stabilizer'),\n",
       " AerSimulator('aer_simulator_unitary'),\n",
       " AerSimulator('aer_simulator_superop'),\n",
       " QasmSimulator('qasm_simulator'),\n",
       " StatevectorSimulator('statevector_simulator'),\n",
       " UnitarySimulator('unitary_simulator'),\n",
       " PulseSimulator('pulse_simulator')]"
      ]
     },
     "execution_count": 15,
     "metadata": {},
     "output_type": "execute_result"
    }
   ],
   "source": [
    "# lists down all the Aer simulators\n",
    "Aer.backends()"
   ]
  },
  {
   "cell_type": "code",
   "execution_count": 17,
   "id": "8ad3e545-efd1-4567-a16f-c864ad573f41",
   "metadata": {},
   "outputs": [
    {
     "data": {
      "text/plain": [
       "[<IBMQSimulator('ibmq_qasm_simulator') from IBMQ(hub='ibm-q', group='open', project='main')>,\n",
       " <IBMQBackend('ibmqx2') from IBMQ(hub='ibm-q', group='open', project='main')>,\n",
       " <IBMQBackend('ibmq_armonk') from IBMQ(hub='ibm-q', group='open', project='main')>,\n",
       " <IBMQBackend('ibmq_santiago') from IBMQ(hub='ibm-q', group='open', project='main')>,\n",
       " <IBMQBackend('ibmq_bogota') from IBMQ(hub='ibm-q', group='open', project='main')>,\n",
       " <IBMQBackend('ibmq_lima') from IBMQ(hub='ibm-q', group='open', project='main')>,\n",
       " <IBMQBackend('ibmq_belem') from IBMQ(hub='ibm-q', group='open', project='main')>,\n",
       " <IBMQBackend('ibmq_quito') from IBMQ(hub='ibm-q', group='open', project='main')>,\n",
       " <IBMQSimulator('simulator_statevector') from IBMQ(hub='ibm-q', group='open', project='main')>,\n",
       " <IBMQSimulator('simulator_mps') from IBMQ(hub='ibm-q', group='open', project='main')>,\n",
       " <IBMQSimulator('simulator_extended_stabilizer') from IBMQ(hub='ibm-q', group='open', project='main')>,\n",
       " <IBMQSimulator('simulator_stabilizer') from IBMQ(hub='ibm-q', group='open', project='main')>,\n",
       " <IBMQBackend('ibmq_manila') from IBMQ(hub='ibm-q', group='open', project='main')>]"
      ]
     },
     "execution_count": 17,
     "metadata": {},
     "output_type": "execute_result"
    }
   ],
   "source": [
    "# lists down all the quantum computers\n",
    "provider = IBMQ.get_provider(\"ibm-q\")\n",
    "provider.backends()"
   ]
  },
  {
   "cell_type": "code",
   "execution_count": 19,
   "id": "d858a37f-cefd-431f-a301-f65b2d1de55d",
   "metadata": {},
   "outputs": [
    {
     "name": "stdout",
     "output_type": "stream",
     "text": [
      "None\n",
      "<qiskit.providers.models.backendproperties.BackendProperties object at 0x7fcf2089c1c0>\n",
      "<qiskit.providers.models.backendproperties.BackendProperties object at 0x7fcf1a7b29a0>\n",
      "<qiskit.providers.models.backendproperties.BackendProperties object at 0x7fcf16f4a100>\n",
      "<qiskit.providers.models.backendproperties.BackendProperties object at 0x7fcf16f79370>\n",
      "<qiskit.providers.models.backendproperties.BackendProperties object at 0x7fcf16f1b730>\n",
      "<qiskit.providers.models.backendproperties.BackendProperties object at 0x7fcf16f36a60>\n",
      "<qiskit.providers.models.backendproperties.BackendProperties object at 0x7fcf16f420a0>\n",
      "None\n",
      "None\n",
      "None\n",
      "None\n",
      "<qiskit.providers.models.backendproperties.BackendProperties object at 0x7fcf16ee8190>\n"
     ]
    }
   ],
   "source": [
    "# returns general properties of all the quantum computers listed above\n",
    "for backend in provider.backends():\n",
    "    print(backend.properties())"
   ]
  },
  {
   "cell_type": "code",
   "execution_count": 24,
   "id": "2d751119-e43e-437d-af9a-8fe0ee80a06e",
   "metadata": {},
   "outputs": [
    {
     "name": "stdout",
     "output_type": "stream",
     "text": [
      "ibmq_qasm_simulator : simulated qubits and 3 jobs\n",
      "ibmqx2 : 5 qubits and 0 jobs\n",
      "ibmq_armonk : 1 qubits and 0 jobs\n",
      "ibmq_santiago : 5 qubits and 18 jobs\n",
      "ibmq_bogota : 5 qubits and 5 jobs\n",
      "ibmq_lima : 5 qubits and 10 jobs\n",
      "ibmq_belem : 5 qubits and 5 jobs\n",
      "ibmq_quito : 5 qubits and 5 jobs\n",
      "simulator_statevector : simulated qubits and 4 jobs\n",
      "simulator_mps : simulated qubits and 4 jobs\n",
      "simulator_extended_stabilizer : simulated qubits and 4 jobs\n",
      "simulator_stabilizer : simulated qubits and 3 jobs\n",
      "ibmq_manila : 5 qubits and 3 jobs\n"
     ]
    }
   ],
   "source": [
    "# granular information of each systems which are listed above\n",
    "for backend in provider.backends():\n",
    "    try:\n",
    "        qbit_count = len(backend.properties().qubits)\n",
    "    except:\n",
    "        qbit_count = \"simulated\"\n",
    "    \n",
    "    print(\"{} : {} qubits and {} jobs\".format(backend.name(), qbit_count, backend.status().pending_jobs))"
   ]
  },
  {
   "cell_type": "code",
   "execution_count": null,
   "id": "6be49379-ee4f-4695-86fa-6474afd09169",
   "metadata": {},
   "outputs": [],
   "source": []
  }
 ],
 "metadata": {
  "kernelspec": {
   "display_name": "Qiskit v0.29.0",
   "language": "python",
   "name": "python3"
  },
  "language_info": {
   "codemirror_mode": {
    "name": "ipython",
    "version": 3
   },
   "file_extension": ".py",
   "mimetype": "text/x-python",
   "name": "python",
   "nbconvert_exporter": "python",
   "pygments_lexer": "ipython3",
   "version": "3.8.10"
  },
  "widgets": {
   "application/vnd.jupyter.widget-state+json": {
    "state": {},
    "version_major": 2,
    "version_minor": 0
   }
  }
 },
 "nbformat": 4,
 "nbformat_minor": 5
}
