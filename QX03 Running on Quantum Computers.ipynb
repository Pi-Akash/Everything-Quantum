{
 "cells": [
  {
   "cell_type": "code",
   "execution_count": 1,
   "id": "302ce9a0-4595-4319-8322-ab783eced8f0",
   "metadata": {},
   "outputs": [],
   "source": [
    "# importing necessary libraries\n",
    "from qiskit import *\n",
    "from qiskit.visualization import plot_histogram"
   ]
  },
  {
   "cell_type": "code",
   "execution_count": 2,
   "id": "81f5752c-26d4-4ac0-abaf-883f013fddfb",
   "metadata": {},
   "outputs": [
    {
     "data": {
      "image/png": "[encoded data removed]",
      "text/plain": [
       "<Figure size 340.233x204.68 with 1 Axes>"
      ]
     },
     "execution_count": 2,
     "metadata": {},
     "output_type": "execute_result"
    }
   ],
   "source": [
    "# Hello world program\n",
    "quantum_register = QuantumRegister(2) # 2 qbits\n",
    "classical_register = ClassicalRegister(2) # 2 classical bits\n",
    "\n",
    "# creating circuit\n",
    "circuit = QuantumCircuit(quantum_register, classical_register)\n",
    "\n",
    "# adding hadamard gate to q0 qbit\n",
    "circuit.h(0)\n",
    "\n",
    "# adding CNOT gate to q0, q1\n",
    "circuit.cx(0,1)\n",
    "\n",
    "# measuring values\n",
    "circuit.measure([0,1], [0,1])\n",
    "\n",
    "# drawing circuit\n",
    "circuit.draw(output = \"mpl\")"
   ]
  },
  {
   "cell_type": "code",
   "execution_count": 3,
   "id": "2d38aa0a-12ab-4423-a3d5-00e389098a1a",
   "metadata": {},
   "outputs": [
    {
     "name": "stderr",
     "output_type": "stream",
     "text": [
      "configrc.store_credentials:WARNING:2021-08-07 15:25:56,263: Credentials already present. Set overwrite=True to overwrite.\n"
     ]
    }
   ],
   "source": [
    "# reading api key from ibm from a file\n",
    "with open(\"Qid.txt\", \"r\") as handle:\n",
    "    api_key = handle.read().strip()\n",
    "\n",
    "# getting backend information\n",
    "apikey = IBMQ.save_account(api_key)"
   ]
  },
  {
   "cell_type": "code",
   "execution_count": 4,
   "id": "28d9b527-7495-4f4f-81c5-83a23994e674",
   "metadata": {},
   "outputs": [
    {
     "data": {
      "text/plain": [
       "<AccountProvider for IBMQ(hub='ibm-q', group='open', project='main')>"
      ]
     },
     "execution_count": 4,
     "metadata": {},
     "output_type": "execute_result"
    }
   ],
   "source": [
    "# loading account\n",
    "IBMQ.load_account()"
   ]
  },
  {
   "cell_type": "code",
   "execution_count": 5,
   "id": "3e19f45e-cd1d-4132-bf55-382753349121",
   "metadata": {},
   "outputs": [
    {
     "data": {
      "text/plain": [
       "[<IBMQSimulator('ibmq_qasm_simulator') from IBMQ(hub='ibm-q', group='open', project='main')>,\n",
       " <IBMQBackend('ibmqx2') from IBMQ(hub='ibm-q', group='open', project='main')>,\n",
       " <IBMQBackend('ibmq_armonk') from IBMQ(hub='ibm-q', group='open', project='main')>,\n",
       " <IBMQBackend('ibmq_santiago') from IBMQ(hub='ibm-q', group='open', project='main')>,\n",
       " <IBMQBackend('ibmq_bogota') from IBMQ(hub='ibm-q', group='open', project='main')>,\n",
       " <IBMQBackend('ibmq_lima') from IBMQ(hub='ibm-q', group='open', project='main')>,\n",
       " <IBMQBackend('ibmq_belem') from IBMQ(hub='ibm-q', group='open', project='main')>,\n",
       " <IBMQBackend('ibmq_quito') from IBMQ(hub='ibm-q', group='open', project='main')>,\n",
       " <IBMQSimulator('simulator_statevector') from IBMQ(hub='ibm-q', group='open', project='main')>,\n",
       " <IBMQSimulator('simulator_mps') from IBMQ(hub='ibm-q', group='open', project='main')>,\n",
       " <IBMQSimulator('simulator_extended_stabilizer') from IBMQ(hub='ibm-q', group='open', project='main')>,\n",
       " <IBMQSimulator('simulator_stabilizer') from IBMQ(hub='ibm-q', group='open', project='main')>,\n",
       " <IBMQBackend('ibmq_manila') from IBMQ(hub='ibm-q', group='open', project='main')>]"
      ]
     },
     "execution_count": 5,
     "metadata": {},
     "output_type": "execute_result"
    }
   ],
   "source": [
    "# get providers\n",
    "provider = IBMQ.get_provider(\"ibm-q\")\n",
    "provider.backends()"
   ]
  },
  {
   "cell_type": "code",
   "execution_count": 6,
   "id": "6c632b68-e597-433e-9ea8-11f7301a1dc0",
   "metadata": {},
   "outputs": [
    {
     "name": "stdout",
     "output_type": "stream",
     "text": [
      "ibmq_qasm_simulator : simulated qubits and 1 jobs\n",
      "ibmqx2 : 5 qubits and 1 jobs\n",
      "ibmq_armonk : 1 qubits and 0 jobs\n",
      "ibmq_santiago : 5 qubits and 18 jobs\n",
      "ibmq_bogota : 5 qubits and 6 jobs\n",
      "ibmq_lima : 5 qubits and 11 jobs\n",
      "ibmq_belem : 5 qubits and 6 jobs\n",
      "ibmq_quito : 5 qubits and 4 jobs\n",
      "simulator_statevector : simulated qubits and 2 jobs\n",
      "simulator_mps : simulated qubits and 2 jobs\n",
      "simulator_extended_stabilizer : simulated qubits and 1 jobs\n",
      "simulator_stabilizer : simulated qubits and 1 jobs\n",
      "ibmq_manila : 5 qubits and 3 jobs\n"
     ]
    }
   ],
   "source": [
    "# granular information of each providers\n",
    "for backend in provider.backends():\n",
    "    try:\n",
    "        qbit_count = len(backend.properties().qubits)\n",
    "    except:\n",
    "        qbit_count = \"simulated\"\n",
    "    \n",
    "    print(\"{} : {} qubits and {} jobs\".format(backend.name(), qbit_count, backend.status().pending_jobs))"
   ]
  },
  {
   "cell_type": "code",
   "execution_count": 7,
   "id": "29e411fa-ba4f-4282-9529-f4f5758304fe",
   "metadata": {},
   "outputs": [],
   "source": [
    "# for our run we are going to use ibmqx2 backend from above\n",
    "# this creates an instance of ibmqx2\n",
    "quantum_computer = provider.get_backend(\"ibmqx2\")"
   ]
  },
  {
   "cell_type": "code",
   "execution_count": 8,
   "id": "4da40b23-b1cc-462b-a45e-1525cdf96f67",
   "metadata": {},
   "outputs": [
    {
     "data": {
      "application/vnd.jupyter.widget-view+json": {
       "model_id": "",
       "version_major": 2,
       "version_minor": 0
      },
      "text/plain": [
       "Accordion(children=(VBox(layout=Layout(max_width='710px', min_width='710px')),), layout=Layout(max_height='500…"
      ]
     },
     "metadata": {},
     "output_type": "display_data"
    },
    {
     "data": {
      "application/javascript": [
       "\n",
       "        const isLab = window['Jupyter'] === undefined;\n",
       "        const notebook = document.querySelector( isLab ? 'div.jp-Notebook' : '#site');\n",
       "        const jobWidget = document.querySelector('div.job_widget');\n",
       "        notebook.prepend(jobWidget);\n",
       "        jobWidget.style.zIndex = '999';\n",
       "        jobWidget.style.position = isLab ? 'sticky' : 'fixed';\n",
       "        jobWidget.style.boxShadow = '5px 5px 5px -3px black';\n",
       "        jobWidget.style.opacity = '0.95';\n",
       "        if (isLab) {\n",
       "            jobWidget.style.top = '0';\n",
       "            jobWidget.style.left = '0';\n",
       "        }\n",
       "        "
      ],
      "text/plain": [
       "<IPython.core.display.Javascript object>"
      ]
     },
     "metadata": {},
     "output_type": "display_data"
    }
   ],
   "source": [
    "# executing the circuit\n",
    "# since now we want to run the circuit in quantum computer this will not be quick, \n",
    "# therefore we need to moniter the condition of our job\n",
    "\n",
    "import qiskit.tools.jupyter\n",
    "\n",
    "# initiated job watcher\n",
    "%qiskit_job_watcher\n",
    "\n",
    "job = execute(circuit, backend = quantum_computer)"
   ]
  },
  {
   "cell_type": "code",
   "execution_count": 9,
   "id": "a6dbd528-8cb6-47dd-9d2b-18016e516bd7",
   "metadata": {},
   "outputs": [
    {
     "name": "stdout",
     "output_type": "stream",
     "text": [
      "Job Status: job has successfully run\n"
     ]
    }
   ],
   "source": [
    "from qiskit.tools.monitor import job_monitor\n",
    "\n",
    "job_monitor(job)"
   ]
  },
  {
   "cell_type": "code",
   "execution_count": 10,
   "id": "cf8ad224-feb6-4d64-842f-9c56bbe41646",
   "metadata": {},
   "outputs": [
    {
     "data": {
      "image/png": "[encoded data removed]",
      "text/plain": [
       "<Figure size 504x360 with 1 Axes>"
      ]
     },
     "execution_count": 10,
     "metadata": {},
     "output_type": "execute_result"
    }
   ],
   "source": [
    "# store results from the run into a variable\n",
    "result = job.result()\n",
    "\n",
    "# plot histogram of the results\n",
    "plot_histogram(result.get_counts(circuit))"
   ]
  },
  {
   "cell_type": "markdown",
   "id": "b4b2bc98-5fae-4335-8b57-7ab6ccf43e49",
   "metadata": {},
   "source": [
    "<p>there are some values for 01 and 10 that is because of quauntum noise, we have ran the circuit in a quantum computer but in reality they are not the perfect systems there is thats why we see those quantum noises</p>"
   ]
  },
  {
   "cell_type": "code",
   "execution_count": 12,
   "id": "529e3307-58bd-4af4-bcdd-608ae42938b0",
   "metadata": {},
   "outputs": [],
   "source": [
    "# disabled job watcher after the run good for memory\n",
    "%qiskit_disable_job_watcher"
   ]
  },
  {
   "cell_type": "code",
   "execution_count": null,
   "id": "45f49281-781d-404a-8d21-352acf39eb7a",
   "metadata": {},
   "outputs": [],
   "source": []
  }
 ],
 "metadata": {
  "kernelspec": {
   "display_name": "Qiskit v0.29.0",
   "language": "python",
   "name": "python3"
  },
  "language_info": {
   "codemirror_mode": {
    "name": "ipython",
    "version": 3
   },
   "file_extension": ".py",
   "mimetype": "text/x-python",
   "name": "python",
   "nbconvert_exporter": "python",
   "pygments_lexer": "ipython3",
   "version": "3.8.10"
  },
  "widgets": {
   "application/vnd.jupyter.widget-state+json": {
    "state": {
     "0cee15ca876b4298abe51593888b2787": {
      "model_module": "@jupyter-widgets/controls",
      "model_module_version": "1.5.0",
      "model_name": "HTMLModel",
      "state": {
       "layout": "IPY_MODEL_376947442e1b4fdcabbca60cccbb0e55",
       "style": "IPY_MODEL_0d84b24fdd744482ba90f2e0d2b7c924",
       "value": "<h5>Status</h5>"
      }
     },
     "0d84b24fdd744482ba90f2e0d2b7c924": {
      "model_module": "@jupyter-widgets/controls",
      "model_module_version": "1.5.0",
      "model_name": "DescriptionStyleModel",
      "state": {
       "description_width": ""
      }
     },
     "115080ef930a4ba8bb4a7ecc2d6aca04": {
      "model_module": "@jupyter-widgets/controls",
      "model_module_version": "1.5.0",
      "model_name": "HBoxModel",
      "state": {
       "children": [
        "IPY_MODEL_c8d01d44b39a467db993a6eba0f5a1c8",
        "IPY_MODEL_bdb1710eade84875b93e059fd68ac240",
        "IPY_MODEL_0cee15ca876b4298abe51593888b2787",
        "IPY_MODEL_cbcd561986c7453d823e1bcb315f7b50",
        "IPY_MODEL_3c5bd0c2765e4d0cb3e305aeed0fc2c5"
       ],
       "layout": "IPY_MODEL_a190032a68a4481b8f1b857edc743bc0"
      }
     },
     "1b1ea019a95a45009ccb526031dc3b85": {
      "model_module": "@jupyter-widgets/base",
      "model_module_version": "1.2.0",
      "model_name": "LayoutModel",
      "state": {
       "max_width": "710px",
       "min_width": "710px"
      }
     },
     "20c5d8be687545328ff8c7ac4564450a": {
      "model_module": "@jupyter-widgets/base",
      "model_module_version": "1.2.0",
      "model_name": "LayoutModel",
      "state": {
       "overflow_x": "scroll"
      }
     },
     "222393598c6948939e49cb991a74afe0": {
      "model_module": "@jupyter-widgets/controls",
      "model_module_version": "1.5.0",
      "model_name": "ButtonModel",
      "state": {
       "icon": "close",
       "layout": "IPY_MODEL_d77e56ace4214f9384984361794dfd43",
       "style": "IPY_MODEL_5f3743d80fae4becbceaed2602fc46f4"
      }
     },
     "27cf849f804949f48ea6a3828342825c": {
      "model_module": "@jupyter-widgets/controls",
      "model_module_version": "1.5.0",
      "model_name": "ButtonStyleModel",
      "state": {}
     },
     "2a385fb2c3e143a18b92d77a3cb079c2": {
      "model_module": "@jupyter-widgets/controls",
      "model_module_version": "1.5.0",
      "model_name": "DescriptionStyleModel",
      "state": {
       "description_width": ""
      }
     },
     "2ada7c831f2444a7be64f06cbdf7a61f": {
      "model_module": "@jupyter-widgets/controls",
      "model_module_version": "1.5.0",
      "model_name": "DescriptionStyleModel",
      "state": {
       "description_width": ""
      }
     },
     "2e7f7fe6d7b8437ba4baf9f9556be87e": {
      "model_module": "@jupyter-widgets/controls",
      "model_module_version": "1.5.0",
      "model_name": "DescriptionStyleModel",
      "state": {
       "description_width": ""
      }
     },
     "358198b98b094347b55fc542674b264e": {
      "model_module": "@jupyter-widgets/base",
      "model_module_version": "1.2.0",
      "model_name": "LayoutModel",
      "state": {
       "width": "70px"
      }
     },
     "376947442e1b4fdcabbca60cccbb0e55": {
      "model_module": "@jupyter-widgets/base",
      "model_module_version": "1.2.0",
      "model_name": "LayoutModel",
      "state": {
       "width": "95px"
      }
     },
     "3af3a915ba7f48e78ba0bda7fbf0123b": {
      "model_module": "@jupyter-widgets/base",
      "model_module_version": "1.2.0",
      "model_name": "LayoutModel",
      "state": {
       "max_height": "500px",
       "max_width": "750px",
       "overflow_x": "hidden",
       "overflow_y": "scroll",
       "visibility": "visible",
       "width": "auto"
      }
     },
     "3b70b2d6e1a84e73bceeab65b1402af8": {
      "model_module": "@jupyter-widgets/controls",
      "model_module_version": "1.5.0",
      "model_name": "DescriptionStyleModel",
      "state": {
       "description_width": ""
      }
     },
     "3bb24a6ed5ce4fd89d403a5a454465ed": {
      "model_module": "@jupyter-widgets/base",
      "model_module_version": "1.2.0",
      "model_name": "LayoutModel",
      "state": {
       "width": "145px"
      }
     },
     "3c5bd0c2765e4d0cb3e305aeed0fc2c5": {
      "model_module": "@jupyter-widgets/controls",
      "model_module_version": "1.5.0",
      "model_name": "HTMLModel",
      "state": {
       "layout": "IPY_MODEL_4d7893bebbc24142a4927db38e1e10ca",
       "style": "IPY_MODEL_70762b88d78343f9a62a2b28757b7e04",
       "value": "<h5>Message</h5>"
      }
     },
     "3fae40d869cc4fdcaeba2c778ac07ef3": {
      "model_module": "@jupyter-widgets/controls",
      "model_module_version": "1.5.0",
      "model_name": "DescriptionStyleModel",
      "state": {
       "description_width": ""
      }
     },
     "465d2216e22943febc4a4763f4cab34f": {
      "model_module": "@jupyter-widgets/controls",
      "model_module_version": "1.5.0",
      "model_name": "ButtonModel",
      "state": {
       "button_style": "primary",
       "description": "Clear",
       "layout": "IPY_MODEL_5ca7a2f945894e6ba8e64dc226557afb",
       "style": "IPY_MODEL_27cf849f804949f48ea6a3828342825c"
      }
     },
     "4d7893bebbc24142a4927db38e1e10ca": {
      "model_module": "@jupyter-widgets/base",
      "model_module_version": "1.2.0",
      "model_name": "LayoutModel",
      "state": {}
     },
     "4fcb3b1e5ca847d0819dedbf801cca12": {
      "model_module": "@jupyter-widgets/base",
      "model_module_version": "1.2.0",
      "model_name": "LayoutModel",
      "state": {
       "width": "190px"
      }
     },
     "57a973efd2e14d45ba38c992a1d98b35": {
      "model_module": "@jupyter-widgets/base",
      "model_module_version": "1.2.0",
      "model_name": "LayoutModel",
      "state": {
       "width": "190px"
      }
     },
     "5ca7a2f945894e6ba8e64dc226557afb": {
      "model_module": "@jupyter-widgets/base",
      "model_module_version": "1.2.0",
      "model_name": "LayoutModel",
      "state": {
       "grid_area": "right",
       "padding": "0px 0px 0px 0px",
       "width": "70px"
      }
     },
     "5f3743d80fae4becbceaed2602fc46f4": {
      "model_module": "@jupyter-widgets/controls",
      "model_module_version": "1.5.0",
      "model_name": "ButtonStyleModel",
      "state": {
       "button_color": "white"
      }
     },
     "634bb4980e204ed292cefd5bd206acff": {
      "model_module": "@jupyter-widgets/controls",
      "model_module_version": "1.5.0",
      "model_name": "DescriptionStyleModel",
      "state": {
       "description_width": ""
      }
     },
     "70762b88d78343f9a62a2b28757b7e04": {
      "model_module": "@jupyter-widgets/controls",
      "model_module_version": "1.5.0",
      "model_name": "DescriptionStyleModel",
      "state": {
       "description_width": ""
      }
     },
     "728924f6139c4031be1df4207421a6e8": {
      "model_module": "@jupyter-widgets/controls",
      "model_module_version": "1.5.0",
      "model_name": "HTMLModel",
      "state": {
       "layout": "IPY_MODEL_20c5d8be687545328ff8c7ac4564450a",
       "style": "IPY_MODEL_2e7f7fe6d7b8437ba4baf9f9556be87e",
       "value": "job has successfully run"
      }
     },
     "79823d5950d64026972fa4bca7fd7ce4": {
      "model_module": "@jupyter-widgets/controls",
      "model_module_version": "1.5.0",
      "model_name": "DescriptionStyleModel",
      "state": {
       "description_width": ""
      }
     },
     "7e78c2d7eb7b43c4b7cae915dd09c8ba": {
      "model_module": "@jupyter-widgets/controls",
      "model_module_version": "1.5.0",
      "model_name": "GridBoxModel",
      "state": {
       "children": [
        "IPY_MODEL_465d2216e22943febc4a4763f4cab34f"
       ],
       "layout": "IPY_MODEL_bbc51dacb4ca4126bb2cef3b1d4df613"
      }
     },
     "8660a794641f44079733b08ebf03a9dc": {
      "model_module": "@jupyter-widgets/controls",
      "model_module_version": "1.5.0",
      "model_name": "HTMLModel",
      "state": {
       "layout": "IPY_MODEL_9fb0459911ef4c17a7e66c61ab691eb5",
       "style": "IPY_MODEL_2a385fb2c3e143a18b92d77a3cb079c2",
       "value": "ibmqx2"
      }
     },
     "8b81d2cff3044da3af352f7ac42216f0": {
      "model_module": "@jupyter-widgets/base",
      "model_module_version": "1.2.0",
      "model_name": "LayoutModel",
      "state": {
       "width": "70px"
      }
     },
     "9f62954cc0734a65807752bb6574f16d": {
      "model_module": "@jupyter-widgets/controls",
      "model_module_version": "1.5.0",
      "model_name": "DescriptionStyleModel",
      "state": {
       "description_width": ""
      }
     },
     "9fb0459911ef4c17a7e66c61ab691eb5": {
      "model_module": "@jupyter-widgets/base",
      "model_module_version": "1.2.0",
      "model_name": "LayoutModel",
      "state": {
       "width": "145px"
      }
     },
     "a158236e822d4afe86f6bbf320e53c36": {
      "model_module": "@jupyter-widgets/controls",
      "model_module_version": "1.5.0",
      "model_name": "HTMLModel",
      "state": {
       "layout": "IPY_MODEL_358198b98b094347b55fc542674b264e",
       "style": "IPY_MODEL_9f62954cc0734a65807752bb6574f16d",
       "value": "-"
      }
     },
     "a190032a68a4481b8f1b857edc743bc0": {
      "model_module": "@jupyter-widgets/base",
      "model_module_version": "1.2.0",
      "model_name": "LayoutModel",
      "state": {
       "margin": "0px 0px 0px 37px",
       "width": "600px"
      }
     },
     "b55fd1c82c11422fa74bb95f41981a99": {
      "model_module": "@jupyter-widgets/controls",
      "model_module_version": "1.5.0",
      "model_name": "VBoxModel",
      "state": {
       "children": [
        "IPY_MODEL_7e78c2d7eb7b43c4b7cae915dd09c8ba",
        "IPY_MODEL_115080ef930a4ba8bb4a7ecc2d6aca04",
        "IPY_MODEL_f23abbca0453468c831f8d13eea898aa"
       ],
       "layout": "IPY_MODEL_1b1ea019a95a45009ccb526031dc3b85"
      }
     },
     "bbc51dacb4ca4126bb2cef3b1d4df613": {
      "model_module": "@jupyter-widgets/base",
      "model_module_version": "1.2.0",
      "model_name": "LayoutModel",
      "state": {
       "grid_template_areas": "\n                                       \". . . . right \"\n                                        ",
       "grid_template_columns": "20% 20% 20% 20% 20%",
       "width": "100%"
      }
     },
     "bc6cd95773da4db3b9c6467a398afd6f": {
      "model_module": "@jupyter-widgets/base",
      "model_module_version": "1.2.0",
      "model_name": "LayoutModel",
      "state": {
       "max_width": "700px",
       "min_width": "700px"
      }
     },
     "bdb1710eade84875b93e059fd68ac240": {
      "model_module": "@jupyter-widgets/controls",
      "model_module_version": "1.5.0",
      "model_name": "HTMLModel",
      "state": {
       "layout": "IPY_MODEL_3bb24a6ed5ce4fd89d403a5a454465ed",
       "style": "IPY_MODEL_faf5d525f1f64c5b884c34689ba2332a",
       "value": "<h5>Backend</h5>"
      }
     },
     "c8d01d44b39a467db993a6eba0f5a1c8": {
      "model_module": "@jupyter-widgets/controls",
      "model_module_version": "1.5.0",
      "model_name": "HTMLModel",
      "state": {
       "layout": "IPY_MODEL_4fcb3b1e5ca847d0819dedbf801cca12",
       "style": "IPY_MODEL_3fae40d869cc4fdcaeba2c778ac07ef3",
       "value": "<h5>Job ID</h5>"
      }
     },
     "cbcd561986c7453d823e1bcb315f7b50": {
      "model_module": "@jupyter-widgets/controls",
      "model_module_version": "1.5.0",
      "model_name": "HTMLModel",
      "state": {
       "layout": "IPY_MODEL_8b81d2cff3044da3af352f7ac42216f0",
       "style": "IPY_MODEL_2ada7c831f2444a7be64f06cbdf7a61f",
       "value": "<h5>Queue</h5>"
      }
     },
     "d41c4126986c45fbbf77161575a593d1": {
      "model_module": "@jupyter-widgets/base",
      "model_module_version": "1.2.0",
      "model_name": "LayoutModel",
      "state": {
       "width": "95px"
      }
     },
     "d64e88d5fcfc48ea99fec7d72c669f0a": {
      "model_module": "@jupyter-widgets/controls",
      "model_module_version": "1.5.0",
      "model_name": "HTMLModel",
      "state": {
       "layout": "IPY_MODEL_dca5c2044d3745239d00298e1d3c2251",
       "style": "IPY_MODEL_634bb4980e204ed292cefd5bd206acff",
       "value": "<p style='font-family: IBM Plex Sans, Arial, Helvetica, sans-serif; font-size: 20px; font-weight: medium;'>Circuit Properties</p>"
      }
     },
     "d77e56ace4214f9384984361794dfd43": {
      "model_module": "@jupyter-widgets/base",
      "model_module_version": "1.2.0",
      "model_name": "LayoutModel",
      "state": {
       "margin": "0px 5px 0px 0px",
       "width": "32px"
      }
     },
     "dca5c2044d3745239d00298e1d3c2251": {
      "model_module": "@jupyter-widgets/base",
      "model_module_version": "1.2.0",
      "model_name": "LayoutModel",
      "state": {
       "margin": "0px 0px 10px 0px"
      }
     },
     "f23abbca0453468c831f8d13eea898aa": {
      "model_module": "@jupyter-widgets/controls",
      "model_module_version": "1.5.0",
      "model_name": "HBoxModel",
      "state": {
       "children": [
        "IPY_MODEL_222393598c6948939e49cb991a74afe0",
        "IPY_MODEL_fd7bba3e28de4f5f883e6c3530507669",
        "IPY_MODEL_8660a794641f44079733b08ebf03a9dc",
        "IPY_MODEL_f783788d1a8e4b1f98bbceed8bc56fe8",
        "IPY_MODEL_a158236e822d4afe86f6bbf320e53c36",
        "IPY_MODEL_728924f6139c4031be1df4207421a6e8"
       ],
       "layout": "IPY_MODEL_bc6cd95773da4db3b9c6467a398afd6f"
      }
     },
     "f783788d1a8e4b1f98bbceed8bc56fe8": {
      "model_module": "@jupyter-widgets/controls",
      "model_module_version": "1.5.0",
      "model_name": "HTMLModel",
      "state": {
       "layout": "IPY_MODEL_d41c4126986c45fbbf77161575a593d1",
       "style": "IPY_MODEL_3b70b2d6e1a84e73bceeab65b1402af8",
       "value": "<font style='color:#34BC6E'>DONE</font>"
      }
     },
     "faf5d525f1f64c5b884c34689ba2332a": {
      "model_module": "@jupyter-widgets/controls",
      "model_module_version": "1.5.0",
      "model_name": "DescriptionStyleModel",
      "state": {
       "description_width": ""
      }
     },
     "fd7bba3e28de4f5f883e6c3530507669": {
      "model_module": "@jupyter-widgets/controls",
      "model_module_version": "1.5.0",
      "model_name": "HTMLModel",
      "state": {
       "layout": "IPY_MODEL_57a973efd2e14d45ba38c992a1d98b35",
       "style": "IPY_MODEL_79823d5950d64026972fa4bca7fd7ce4",
       "value": "610ea60d07617990e8e03306"
      }
     }
    },
    "version_major": 2,
    "version_minor": 0
   }
  }
 },
 "nbformat": 4,
 "nbformat_minor": 5
}
