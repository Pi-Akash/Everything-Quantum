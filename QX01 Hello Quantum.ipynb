{
 "cells": [
  {
   "cell_type": "code",
   "execution_count": 1,
   "id": "eed698ef-4585-4df0-837c-ce50230bd5a5",
   "metadata": {},
   "outputs": [],
   "source": [
    "# importing everything from qiskit\n",
    "from qiskit import *"
   ]
  },
  {
   "cell_type": "code",
   "execution_count": 2,
   "id": "99f9a86c-4ca0-46a9-aa9d-3443b0bd35ac",
   "metadata": {},
   "outputs": [],
   "source": [
    "# first 2 means register me 2 qubits \n",
    "# second 2 means register me 2 classical bits\n",
    "circuit = QuantumCircuit(2, 2)"
   ]
  },
  {
   "cell_type": "code",
   "execution_count": 3,
   "id": "58459056-93c7-412a-a13a-71f3e85870ed",
   "metadata": {},
   "outputs": [],
   "source": [
    "# circuit = QuantumCircuit(2,2) is equivalent to \n",
    "# quantum_register = QuantumRegister(2)\n",
    "# classical_register = ClassicalRegister(2)\n",
    "# circuit = QuantumCircuit(quantum_register, classical_register)"
   ]
  },
  {
   "cell_type": "code",
   "execution_count": 4,
   "id": "ecf6e5fd-b1fb-44a4-9aa1-d0dce9a0bcc5",
   "metadata": {},
   "outputs": [
    {
     "data": {
      "image/png": "[encoded data removed]",
      "text/plain": [
       "<Figure size 116.552x204.68 with 1 Axes>"
      ]
     },
     "execution_count": 4,
     "metadata": {},
     "output_type": "execute_result"
    }
   ],
   "source": [
    "# helps us draw the circuits\n",
    "circuit.draw(output = \"mpl\")"
   ]
  },
  {
   "cell_type": "code",
   "execution_count": 5,
   "id": "3351df93-e3dc-438d-94e3-21ec3e3d2e6d",
   "metadata": {},
   "outputs": [
    {
     "data": {
      "image/png": "[encoded data removed]",
      "text/plain": [
       "<Figure size 146.652x204.68 with 1 Axes>"
      ]
     },
     "execution_count": 5,
     "metadata": {},
     "output_type": "execute_result"
    }
   ],
   "source": [
    "# adding hadamard gate to qubit 0\n",
    "circuit.h(0)\n",
    "circuit.draw(output = \"mpl\")"
   ]
  },
  {
   "cell_type": "code",
   "execution_count": 6,
   "id": "de5b7873-7dcd-4ee4-a4ae-bec2a55d2bd2",
   "metadata": {},
   "outputs": [
    {
     "data": {
      "image/png": "[encoded data removed]",
      "text/plain": [
       "<Figure size 327.252x204.68 with 1 Axes>"
      ]
     },
     "execution_count": 6,
     "metadata": {},
     "output_type": "execute_result"
    }
   ],
   "source": [
    "# adding CNOT gate or cx gate\n",
    "# controls the 0 qubit and targets the 1 qubit\n",
    "# q0 -> control qubit, q1 -> target qubit\n",
    "# checks if q0 == 1, if true then applies NOT gate operation to q1.\n",
    "circuit.cx(0, 1)\n",
    "\n",
    "# measure values of q0 and q1, associate them with c0 and c1\n",
    "circuit.measure([0, 1], [0, 1])\n",
    "\n",
    "# drawing the circuit\n",
    "circuit.draw(output = \"mpl\")"
   ]
  },
  {
   "cell_type": "code",
   "execution_count": 7,
   "id": "c6e06eba-2f1d-4d76-87f4-01ecf18adb51",
   "metadata": {},
   "outputs": [],
   "source": [
    "# create simulator object and use qasm_simulator\n",
    "simulator = Aer.get_backend(\"qasm_simulator\")"
   ]
  },
  {
   "cell_type": "code",
   "execution_count": 8,
   "id": "b68722ea-19dd-421f-a4ed-1bf65d1b77f2",
   "metadata": {},
   "outputs": [],
   "source": [
    "# running the circuit in simulator and storing results in a variable\n",
    "result = execute(circuit, backend = simulator).result()"
   ]
  },
  {
   "cell_type": "code",
   "execution_count": 9,
   "id": "f9bb03fc-cb8d-49d0-ba30-2d8cf5ea8ab0",
   "metadata": {},
   "outputs": [],
   "source": [
    "from qiskit.visualization import plot_histogram"
   ]
  },
  {
   "cell_type": "code",
   "execution_count": 10,
   "id": "082df9c9-c3a2-4a79-9193-70f646ffd36a",
   "metadata": {},
   "outputs": [
    {
     "name": "stdout",
     "output_type": "stream",
     "text": [
      "job is:  98454f9f-6705-4dca-82f0-d4a54555fff9\n"
     ]
    },
    {
     "data": {
      "image/png": "[encoded data removed]",
      "text/plain": [
       "<Figure size 504x360 with 1 Axes>"
      ]
     },
     "execution_count": 10,
     "metadata": {},
     "output_type": "execute_result"
    }
   ],
   "source": [
    "print(\"job is: \", result.job_id)\n",
    "plot_histogram(result.get_counts(circuit))"
   ]
  }
 ],
 "metadata": {
  "kernelspec": {
   "display_name": "Qiskit v0.29.0",
   "language": "python",
   "name": "python3"
  },
  "language_info": {
   "codemirror_mode": {
    "name": "ipython",
    "version": 3
   },
   "file_extension": ".py",
   "mimetype": "text/x-python",
   "name": "python",
   "nbconvert_exporter": "python",
   "pygments_lexer": "ipython3",
   "version": "3.8.10"
  },
  "widgets": {
   "application/vnd.jupyter.widget-state+json": {
    "state": {},
    "version_major": 2,
    "version_minor": 0
   }
  }
 },
 "nbformat": 4,
 "nbformat_minor": 5
}
